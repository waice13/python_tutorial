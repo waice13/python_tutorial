{
 "cells": [
  {
   "cell_type": "code",
   "execution_count": null,
   "id": "db473703-42dc-4d05-ad52-c1188e47a7df",
   "metadata": {},
   "outputs": [],
   "source": [
    "import pandas as pd"
   ]
  },
  {
   "cell_type": "raw",
   "id": "5e69df91-d232-4749-ac10-ca5b36173dca",
   "metadata": {},
   "source": [
    "student_dict = {'Name':['Priyang','Aadhya','Krisha','Vedant','Parshv','Mittal','Archana'],\n",
    "                'Marks':[98,89,99,79,60,83,99],\n",
    "                'Gender':['Male','Female','Female','Male','Male','Female','Female']}\n",
    "df = pd.DataFrame(student_dict)"
   ]
  },
  {
   "cell_type": "code",
   "execution_count": null,
   "id": "54e2ae21-49ad-4e65-863b-56b55752c915",
   "metadata": {},
   "outputs": [],
   "source": [
    "df"
   ]
  },
  {
   "cell_type": "code",
   "execution_count": null,
   "id": "84385849-c681-4f82-8053-aa9836c6be34",
   "metadata": {},
   "outputs": [],
   "source": [
    "#display top 3 rows\n",
    "df.head(3)"
   ]
  },
  {
   "cell_type": "code",
   "execution_count": null,
   "id": "6220b926-bd75-46ea-a7dc-e2343a5a7f49",
   "metadata": {},
   "outputs": [],
   "source": [
    "#display last 4 rows\n",
    "# TODO: put your code here"
   ]
  },
  {
   "cell_type": "code",
   "execution_count": null,
   "id": "66b527d3-5d2e-4a51-885d-3f0b7c9fc4f8",
   "metadata": {},
   "outputs": [],
   "source": [
    "#shape of our data\n",
    "df.shape"
   ]
  },
  {
   "cell_type": "code",
   "execution_count": null,
   "id": "6c36e9b5-55b7-4a1b-9ca9-8181910e62b6",
   "metadata": {},
   "outputs": [],
   "source": [
    "#show number of row\n",
    "print(\"number of rows =\",df.shape[0])"
   ]
  },
  {
   "cell_type": "code",
   "execution_count": null,
   "id": "515173fe-b133-46b0-bc32-fd30cb9b5843",
   "metadata": {},
   "outputs": [],
   "source": [
    "#show number of column\n",
    "# TODO: put your code here"
   ]
  },
  {
   "cell_type": "code",
   "execution_count": null,
   "id": "dc8f2944-94fa-4e33-b5db-b044f0822989",
   "metadata": {},
   "outputs": [],
   "source": [
    "#see what information pandas can show us\n",
    "df.info()"
   ]
  },
  {
   "cell_type": "code",
   "execution_count": null,
   "id": "a39c322a-1acd-4a04-b000-ad20e3b0fc78",
   "metadata": {},
   "outputs": [],
   "source": [
    "#do we have a null values?\n",
    "df.isnull()"
   ]
  },
  {
   "cell_type": "code",
   "execution_count": null,
   "id": "e516d56d-e127-44b4-b5b3-c336ae11c216",
   "metadata": {},
   "outputs": [],
   "source": [
    "df.isnull().sum()"
   ]
  },
  {
   "cell_type": "code",
   "execution_count": null,
   "id": "a3ba9be0-07df-4ba1-a4df-4b3409b797fd",
   "metadata": {},
   "outputs": [],
   "source": [
    "df.isnull().sum(axis=1)"
   ]
  },
  {
   "cell_type": "code",
   "execution_count": null,
   "id": "02d5e291-2d92-4229-ad32-c6f8f60baacf",
   "metadata": {},
   "outputs": [],
   "source": [
    "df.isnull().sum(axis=0)"
   ]
  },
  {
   "cell_type": "code",
   "execution_count": null,
   "id": "d2619e5c-60cb-42fc-ad25-7d319bac7f76",
   "metadata": {},
   "outputs": [],
   "source": [
    "#statistic of our data\n",
    "df.describe()"
   ]
  },
  {
   "cell_type": "raw",
   "id": "be3c4839-74f9-49d1-9359-8699a88fd169",
   "metadata": {},
   "source": [
    "#Note\n",
    "In statistics, the standard deviation is a measure of the amount of variation or dispersion of a set of values.[1] A low standard deviation indicates that the values tend to be close to the mean (also called the expected value) of the set, while a high standard deviation indicates that the values are spread out over a wider range."
   ]
  },
  {
   "cell_type": "code",
   "execution_count": null,
   "id": "0af78c30-057e-464e-b6f3-8d9b414d2d9e",
   "metadata": {},
   "outputs": [],
   "source": [
    "#how to get the mean\n",
    "df.describe()[\"Marks\"][\"mean\"]"
   ]
  },
  {
   "cell_type": "code",
   "execution_count": null,
   "id": "3e8fa296-dece-49a2-b687-b06ad3ba7f14",
   "metadata": {},
   "outputs": [],
   "source": [
    "#your turn get the median\n",
    "#TODO: put your code to show the medain"
   ]
  },
  {
   "cell_type": "code",
   "execution_count": null,
   "id": "54f805b7-dfce-469f-85d8-44ef6d88fe93",
   "metadata": {},
   "outputs": [],
   "source": [
    "#show some column\n",
    "df[\"Gender\"]"
   ]
  },
  {
   "cell_type": "code",
   "execution_count": null,
   "id": "c691dc64-d199-4dff-aa5b-7ab41495aca2",
   "metadata": {},
   "outputs": [],
   "source": [
    "#show uniq value\n",
    "df[\"Gender\"].unique()"
   ]
  },
  {
   "cell_type": "code",
   "execution_count": null,
   "id": "983c171e-76a5-4da9-b71e-0c2ebf88a9c1",
   "metadata": {},
   "outputs": [],
   "source": [
    "df[\"Gender\"].value_counts()"
   ]
  },
  {
   "cell_type": "code",
   "execution_count": null,
   "id": "e6b0db67-665f-4fe9-8ce9-7e83f1d8a574",
   "metadata": {},
   "outputs": [],
   "source": [
    "#filter data\n",
    "df[\"Marks\"]>90"
   ]
  },
  {
   "cell_type": "code",
   "execution_count": null,
   "id": "89c9d52b-39cd-4903-926a-1ca6cba5dc28",
   "metadata": {},
   "outputs": [],
   "source": [
    "df[df[\"Marks\"]>90]"
   ]
  },
  {
   "cell_type": "code",
   "execution_count": null,
   "id": "830bb71a-b5d6-4bce-b8c0-bb16468ed290",
   "metadata": {},
   "outputs": [],
   "source": [
    "def devideByTwo(x):\n",
    "    return x/2"
   ]
  },
  {
   "cell_type": "code",
   "execution_count": null,
   "id": "d5d4cdc3-a2d9-4328-9592-37c7fddd5591",
   "metadata": {},
   "outputs": [],
   "source": [
    "df[\"half_mark\"] = df[\"Marks\"].apply(devideByTwo)"
   ]
  },
  {
   "cell_type": "code",
   "execution_count": null,
   "id": "472e5b38-624a-449f-8120-51c70b27148e",
   "metadata": {},
   "outputs": [],
   "source": [
    "df"
   ]
  },
  {
   "cell_type": "code",
   "execution_count": null,
   "id": "4748ea71-28da-41b7-80f3-7e40482013c4",
   "metadata": {},
   "outputs": [],
   "source": []
  }
 ],
 "metadata": {
  "kernelspec": {
   "display_name": "Python 3 (ipykernel)",
   "language": "python",
   "name": "python3"
  },
  "language_info": {
   "codemirror_mode": {
    "name": "ipython",
    "version": 3
   },
   "file_extension": ".py",
   "mimetype": "text/x-python",
   "name": "python",
   "nbconvert_exporter": "python",
   "pygments_lexer": "ipython3",
   "version": "3.9.6"
  }
 },
 "nbformat": 4,
 "nbformat_minor": 5
}
